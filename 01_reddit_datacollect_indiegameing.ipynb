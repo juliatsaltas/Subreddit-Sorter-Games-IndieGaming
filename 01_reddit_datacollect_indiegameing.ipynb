{
 "cells": [
  {
   "cell_type": "markdown",
   "metadata": {},
   "source": [
    "# Data Collection - /r/IndieGaming"
   ]
  },
  {
   "cell_type": "markdown",
   "metadata": {},
   "source": [
    "**r/IndieGaming**\n",
    "The IndieGaming subreddit is a forum where users discuss progress on games they are working on, gather support and suggestions for concept art, or are seeking advice for certain tools and software used in game development.\n",
    "\n",
    "The term \"indie\" in gaming refers to an individual or small group of game developers who create games independent from a major label game studio. These groups may have a studio name but do not operated with a large budget like what would be required for big name titles. \n",
    "\n",
    "**Gather Data From Reddit**\n",
    "Data can only be pulled from reddit 100 posts at a time. The following for-loops gather 100 posts from a specified time.\n",
    "\n",
    "Note: The following 13 cells need to be run one at a time as there is an error with .json() when cells are either run at the same time or within a nested loop.\n"
   ]
  },
  {
   "cell_type": "code",
   "execution_count": 1,
   "metadata": {},
   "outputs": [],
   "source": [
    "import requests\n",
    "import pandas as pd"
   ]
  },
  {
   "cell_type": "code",
   "execution_count": 2,
   "metadata": {},
   "outputs": [],
   "source": [
    "url = 'https://api.pushshift.io/reddit/search/submission'"
   ]
  },
  {
   "cell_type": "code",
   "execution_count": 3,
   "metadata": {},
   "outputs": [],
   "source": [
    "# Create empty dataframe\n",
    "reddit_indiegaming = pd.DataFrame()"
   ]
  },
  {
   "cell_type": "markdown",
   "metadata": {},
   "source": [
    "**Pull Data from Specific Time Periods**\n",
    "- There is a limit of 100 posts per pull"
   ]
  },
  {
   "cell_type": "code",
   "execution_count": 4,
   "metadata": {},
   "outputs": [],
   "source": [
    "for i in range(1,10):\n",
    "    \n",
    "    change_utc = '162' + str(i) + '699660'\n",
    "    \n",
    "    change_utc = int(change_utc)\n",
    "    \n",
    "    params = {\n",
    "        'subreddit' : 'indiegaming',\n",
    "        'size' : 100,\n",
    "        'before' : change_utc\n",
    "    }\n",
    "    res = requests.get(url, params)\n",
    "    data = res.json()\n",
    "    posts = data['data']\n",
    "    reddit_indiegaming = reddit_indiegaming.append(pd.DataFrame(posts), ignore_index = True)"
   ]
  },
  {
   "cell_type": "code",
   "execution_count": 7,
   "metadata": {},
   "outputs": [],
   "source": [
    "for i in range(1,10):\n",
    "    \n",
    "    change_utc = '161' + str(i) + '699660'\n",
    "    \n",
    "    change_utc = int(change_utc)\n",
    "    \n",
    "    params = {\n",
    "        'subreddit' : 'indiegaming',\n",
    "        'size' : 100,\n",
    "        'before' : change_utc\n",
    "    }\n",
    "    res = requests.get(url, params)\n",
    "    data = res.json()\n",
    "    posts = data['data']\n",
    "    reddit_indiegaming = reddit_indiegaming.append(pd.DataFrame(posts), ignore_index = True)"
   ]
  },
  {
   "cell_type": "code",
   "execution_count": 9,
   "metadata": {},
   "outputs": [],
   "source": [
    "for i in range(1,10):\n",
    "    \n",
    "    change_utc = '154' + str(i) + '699660'\n",
    "    \n",
    "    change_utc = int(change_utc)\n",
    "    \n",
    "    params = {\n",
    "        'subreddit' : 'indiegaming',\n",
    "        'size' : 100,\n",
    "        'before' : change_utc\n",
    "    }\n",
    "    res = requests.get(url, params)\n",
    "    data = res.json()\n",
    "    posts = data['data']\n",
    "    reddit_indiegaming = reddit_indiegaming.append(pd.DataFrame(posts), ignore_index = True)"
   ]
  },
  {
   "cell_type": "code",
   "execution_count": 10,
   "metadata": {},
   "outputs": [],
   "source": [
    "for i in range(1,10):\n",
    "    \n",
    "    change_utc = '153' + str(i) + '699660'\n",
    "    \n",
    "    change_utc = int(change_utc)\n",
    "    \n",
    "    params = {\n",
    "        'subreddit' : 'indiegaming',\n",
    "        'size' : 100,\n",
    "        'before' : change_utc\n",
    "    }\n",
    "    res = requests.get(url, params)\n",
    "    data = res.json()\n",
    "    posts = data['data']\n",
    "    reddit_indiegaming = reddit_indiegaming.append(pd.DataFrame(posts), ignore_index = True)"
   ]
  },
  {
   "cell_type": "code",
   "execution_count": 11,
   "metadata": {},
   "outputs": [],
   "source": [
    "for i in range(1,10):\n",
    "    \n",
    "    change_utc = '152' + str(i) + '699660'\n",
    "    \n",
    "    change_utc = int(change_utc)\n",
    "    \n",
    "    params = {\n",
    "        'subreddit' : 'indiegaming',\n",
    "        'size' : 100,\n",
    "        'before' : change_utc\n",
    "    }\n",
    "    res = requests.get(url, params)\n",
    "    data = res.json()\n",
    "    posts = data['data']\n",
    "    reddit_indiegaming = reddit_indiegaming.append(pd.DataFrame(posts), ignore_index = True)"
   ]
  },
  {
   "cell_type": "code",
   "execution_count": 13,
   "metadata": {},
   "outputs": [],
   "source": [
    "for i in range(1,10):\n",
    "    \n",
    "    change_utc = '151' + str(i) + '699660'\n",
    "    \n",
    "    change_utc = int(change_utc)\n",
    "    \n",
    "    params = {\n",
    "        'subreddit' : 'indiegaming',\n",
    "        'size' : 100,\n",
    "        'before' : change_utc\n",
    "    }\n",
    "    res = requests.get(url, params)\n",
    "    data = res.json()\n",
    "    posts = data['data']\n",
    "    reddit_indiegaming = reddit_indiegaming.append(pd.DataFrame(posts), ignore_index = True)"
   ]
  },
  {
   "cell_type": "code",
   "execution_count": 15,
   "metadata": {},
   "outputs": [],
   "source": [
    "for i in range(1,10):\n",
    "    \n",
    "    change_utc = '141' + str(i) + '699660'\n",
    "    \n",
    "    change_utc = int(change_utc)\n",
    "    \n",
    "    params = {\n",
    "        'subreddit' : 'indiegaming',\n",
    "        'size' : 100,\n",
    "        'before' : change_utc\n",
    "    }\n",
    "    res = requests.get(url, params)\n",
    "    data = res.json()\n",
    "    posts = data['data']\n",
    "    reddit_indiegaming = reddit_indiegaming.append(pd.DataFrame(posts), ignore_index = True)"
   ]
  },
  {
   "cell_type": "code",
   "execution_count": 16,
   "metadata": {},
   "outputs": [],
   "source": [
    "for i in range(1,10):\n",
    "    \n",
    "    change_utc = '142' + str(i) + '699660'\n",
    "    \n",
    "    change_utc = int(change_utc)\n",
    "    \n",
    "    params = {\n",
    "        'subreddit' : 'indiegaming',\n",
    "        'size' : 100,\n",
    "        'before' : change_utc\n",
    "    }\n",
    "    res = requests.get(url, params)\n",
    "    data = res.json()\n",
    "    posts = data['data']\n",
    "    reddit_indiegaming = reddit_indiegaming.append(pd.DataFrame(posts), ignore_index = True)"
   ]
  },
  {
   "cell_type": "code",
   "execution_count": 17,
   "metadata": {},
   "outputs": [],
   "source": [
    "for i in range(1,10):\n",
    "\n",
    "    change_utc = '143' + str(i) + '699660'\n",
    "\n",
    "    change_utc = int(change_utc)\n",
    "\n",
    "    params = {\n",
    "        'subreddit' : 'indiegaming',\n",
    "        'size' : 100,\n",
    "        'before' : change_utc\n",
    "    }\n",
    "    res = requests.get(url, params)\n",
    "    data = res.json()\n",
    "    posts = data['data']\n",
    "    reddit_indiegaming = reddit_indiegaming.append(pd.DataFrame(posts), ignore_index = True)"
   ]
  },
  {
   "cell_type": "code",
   "execution_count": 18,
   "metadata": {},
   "outputs": [],
   "source": [
    "for i in range(1,10):\n",
    "\n",
    "    change_utc = '144' + str(i) + '699660'\n",
    "\n",
    "    change_utc = int(change_utc)\n",
    "\n",
    "    params = {\n",
    "        'subreddit' : 'indiegaming',\n",
    "        'size' : 100,\n",
    "        'before' : change_utc\n",
    "    }\n",
    "    res = requests.get(url, params)\n",
    "    data = res.json()\n",
    "    posts = data['data']\n",
    "    reddit_indiegaming = reddit_indiegaming.append(pd.DataFrame(posts), ignore_index = True)"
   ]
  },
  {
   "cell_type": "code",
   "execution_count": 19,
   "metadata": {},
   "outputs": [],
   "source": [
    "for i in range(1,10):\n",
    "\n",
    "    change_utc = '145' + str(i) + '699660'\n",
    "\n",
    "    change_utc = int(change_utc)\n",
    "\n",
    "    params = {\n",
    "        'subreddit' : 'indiegaming',\n",
    "        'size' : 100,\n",
    "        'before' : change_utc\n",
    "    }\n",
    "    res = requests.get(url, params)\n",
    "    data = res.json()\n",
    "    posts = data['data']\n",
    "    reddit_indiegaming = reddit_indiegaming.append(pd.DataFrame(posts), ignore_index = True)"
   ]
  },
  {
   "cell_type": "code",
   "execution_count": 20,
   "metadata": {},
   "outputs": [],
   "source": [
    "for i in range(1,10):\n",
    "\n",
    "    change_utc = '146' + str(i) + '699660'\n",
    "\n",
    "    change_utc = int(change_utc)\n",
    "\n",
    "    params = {\n",
    "        'subreddit' : 'indiegaming',\n",
    "        'size' : 100,\n",
    "        'before' : change_utc\n",
    "    }\n",
    "    res = requests.get(url, params)\n",
    "    data = res.json()\n",
    "    posts = data['data']\n",
    "    reddit_indiegaming = reddit_indiegaming.append(pd.DataFrame(posts), ignore_index = True)"
   ]
  },
  {
   "cell_type": "code",
   "execution_count": 21,
   "metadata": {},
   "outputs": [],
   "source": [
    "for i in range(1,10):\n",
    "\n",
    "    change_utc = '147' + str(i) + '699660'\n",
    "\n",
    "    change_utc = int(change_utc)\n",
    "\n",
    "    params = {\n",
    "        'subreddit' : 'indiegaming',\n",
    "        'size' : 100,\n",
    "        'before' : change_utc\n",
    "    }\n",
    "    res = requests.get(url, params)\n",
    "    data = res.json()\n",
    "    posts = data['data']\n",
    "    reddit_indiegaming = reddit_indiegaming.append(pd.DataFrame(posts), ignore_index = True)"
   ]
  },
  {
   "cell_type": "markdown",
   "metadata": {},
   "source": [
    "**Save columns 'subreddit', 'selftext', 'title'**"
   ]
  },
  {
   "cell_type": "code",
   "execution_count": 22,
   "metadata": {},
   "outputs": [],
   "source": [
    "reddit_indiegaming = reddit_indiegaming[['subreddit', 'selftext', 'title']]"
   ]
  },
  {
   "cell_type": "code",
   "execution_count": 23,
   "metadata": {},
   "outputs": [
    {
     "name": "stdout",
     "output_type": "stream",
     "text": [
      "<class 'pandas.core.frame.DataFrame'>\n",
      "RangeIndex: 13200 entries, 0 to 13199\n",
      "Data columns (total 3 columns):\n",
      " #   Column     Non-Null Count  Dtype \n",
      "---  ------     --------------  ----- \n",
      " 0   subreddit  13200 non-null  object\n",
      " 1   selftext   13181 non-null  object\n",
      " 2   title      13200 non-null  object\n",
      "dtypes: object(3)\n",
      "memory usage: 309.5+ KB\n"
     ]
    }
   ],
   "source": [
    "reddit_indiegaming.info()"
   ]
  },
  {
   "cell_type": "markdown",
   "metadata": {},
   "source": [
    "**Replace texts [deleted] and [removed] with blanks**"
   ]
  },
  {
   "cell_type": "code",
   "execution_count": 24,
   "metadata": {},
   "outputs": [],
   "source": [
    "reddit_indiegaming['selftext'] = reddit_indiegaming['selftext'].replace(['[deleted]',\n",
    "                                               '[removed]'],'')"
   ]
  },
  {
   "cell_type": "code",
   "execution_count": 25,
   "metadata": {},
   "outputs": [],
   "source": [
    "# remove remaining null \n",
    "reddit_indiegaming = reddit_indiegaming.dropna()"
   ]
  },
  {
   "cell_type": "code",
   "execution_count": 26,
   "metadata": {},
   "outputs": [
    {
     "name": "stdout",
     "output_type": "stream",
     "text": [
      "<class 'pandas.core.frame.DataFrame'>\n",
      "Int64Index: 13181 entries, 0 to 13199\n",
      "Data columns (total 3 columns):\n",
      " #   Column     Non-Null Count  Dtype \n",
      "---  ------     --------------  ----- \n",
      " 0   subreddit  13181 non-null  object\n",
      " 1   selftext   13181 non-null  object\n",
      " 2   title      13181 non-null  object\n",
      "dtypes: object(3)\n",
      "memory usage: 411.9+ KB\n"
     ]
    }
   ],
   "source": [
    "reddit_indiegaming.info()"
   ]
  },
  {
   "cell_type": "markdown",
   "metadata": {},
   "source": [
    "**Combine texts to one column titled 'text'** - This new column will be used for classification."
   ]
  },
  {
   "cell_type": "code",
   "execution_count": 27,
   "metadata": {},
   "outputs": [],
   "source": [
    "reddit_indiegaming['text'] = reddit_indiegaming['selftext'] + reddit_indiegaming['title']"
   ]
  },
  {
   "cell_type": "code",
   "execution_count": 28,
   "metadata": {},
   "outputs": [
    {
     "name": "stdout",
     "output_type": "stream",
     "text": [
      "<class 'pandas.core.frame.DataFrame'>\n",
      "Int64Index: 13181 entries, 0 to 13199\n",
      "Data columns (total 4 columns):\n",
      " #   Column     Non-Null Count  Dtype \n",
      "---  ------     --------------  ----- \n",
      " 0   subreddit  13181 non-null  object\n",
      " 1   selftext   13181 non-null  object\n",
      " 2   title      13181 non-null  object\n",
      " 3   text       13181 non-null  object\n",
      "dtypes: object(4)\n",
      "memory usage: 514.9+ KB\n"
     ]
    }
   ],
   "source": [
    "reddit_indiegaming.info()"
   ]
  },
  {
   "cell_type": "code",
   "execution_count": 29,
   "metadata": {},
   "outputs": [
    {
     "data": {
      "text/html": [
       "<div>\n",
       "<style scoped>\n",
       "    .dataframe tbody tr th:only-of-type {\n",
       "        vertical-align: middle;\n",
       "    }\n",
       "\n",
       "    .dataframe tbody tr th {\n",
       "        vertical-align: top;\n",
       "    }\n",
       "\n",
       "    .dataframe thead th {\n",
       "        text-align: right;\n",
       "    }\n",
       "</style>\n",
       "<table border=\"1\" class=\"dataframe\">\n",
       "  <thead>\n",
       "    <tr style=\"text-align: right;\">\n",
       "      <th></th>\n",
       "      <th>subreddit</th>\n",
       "      <th>selftext</th>\n",
       "      <th>title</th>\n",
       "      <th>text</th>\n",
       "    </tr>\n",
       "  </thead>\n",
       "  <tbody>\n",
       "    <tr>\n",
       "      <th>0</th>\n",
       "      <td>IndieGaming</td>\n",
       "      <td></td>\n",
       "      <td>I want to present to you the Pit! Is the first...</td>\n",
       "      <td>I want to present to you the Pit! Is the first...</td>\n",
       "    </tr>\n",
       "    <tr>\n",
       "      <th>1</th>\n",
       "      <td>IndieGaming</td>\n",
       "      <td></td>\n",
       "      <td>I want to present you the Pit! Is the first le...</td>\n",
       "      <td>I want to present you the Pit! Is the first le...</td>\n",
       "    </tr>\n",
       "    <tr>\n",
       "      <th>2</th>\n",
       "      <td>IndieGaming</td>\n",
       "      <td></td>\n",
       "      <td>Spent two months and just did a massive update...</td>\n",
       "      <td>Spent two months and just did a massive update...</td>\n",
       "    </tr>\n",
       "    <tr>\n",
       "      <th>3</th>\n",
       "      <td>IndieGaming</td>\n",
       "      <td>Hello Devs, as a content creator I understand ...</td>\n",
       "      <td>Does Wishlisting A Title Help?</td>\n",
       "      <td>Hello Devs, as a content creator I understand ...</td>\n",
       "    </tr>\n",
       "    <tr>\n",
       "      <th>4</th>\n",
       "      <td>IndieGaming</td>\n",
       "      <td></td>\n",
       "      <td>An upcoming Roguevania-like game with Pixel Ar...</td>\n",
       "      <td>An upcoming Roguevania-like game with Pixel Ar...</td>\n",
       "    </tr>\n",
       "  </tbody>\n",
       "</table>\n",
       "</div>"
      ],
      "text/plain": [
       "     subreddit                                           selftext  \\\n",
       "0  IndieGaming                                                      \n",
       "1  IndieGaming                                                      \n",
       "2  IndieGaming                                                      \n",
       "3  IndieGaming  Hello Devs, as a content creator I understand ...   \n",
       "4  IndieGaming                                                      \n",
       "\n",
       "                                               title  \\\n",
       "0  I want to present to you the Pit! Is the first...   \n",
       "1  I want to present you the Pit! Is the first le...   \n",
       "2  Spent two months and just did a massive update...   \n",
       "3                     Does Wishlisting A Title Help?   \n",
       "4  An upcoming Roguevania-like game with Pixel Ar...   \n",
       "\n",
       "                                                text  \n",
       "0  I want to present to you the Pit! Is the first...  \n",
       "1  I want to present you the Pit! Is the first le...  \n",
       "2  Spent two months and just did a massive update...  \n",
       "3  Hello Devs, as a content creator I understand ...  \n",
       "4  An upcoming Roguevania-like game with Pixel Ar...  "
      ]
     },
     "execution_count": 29,
     "metadata": {},
     "output_type": "execute_result"
    }
   ],
   "source": [
    "reddit_indiegaming.head()"
   ]
  },
  {
   "cell_type": "markdown",
   "metadata": {},
   "source": [
    "**Save to CSV**"
   ]
  },
  {
   "cell_type": "code",
   "execution_count": 30,
   "metadata": {},
   "outputs": [],
   "source": [
    "reddit_indiegaming.to_csv('datasets/data_r_indiegaming_all.csv', index =False)"
   ]
  }
 ],
 "metadata": {
  "kernelspec": {
   "display_name": "Python 3",
   "language": "python",
   "name": "python3"
  },
  "language_info": {
   "codemirror_mode": {
    "name": "ipython",
    "version": 3
   },
   "file_extension": ".py",
   "mimetype": "text/x-python",
   "name": "python",
   "nbconvert_exporter": "python",
   "pygments_lexer": "ipython3",
   "version": "3.8.3"
  }
 },
 "nbformat": 4,
 "nbformat_minor": 4
}
