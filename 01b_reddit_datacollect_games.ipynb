{
 "cells": [
  {
   "cell_type": "markdown",
   "metadata": {},
   "source": [
    "# Data Collection - /r/Games"
   ]
  },
  {
   "cell_type": "markdown",
   "metadata": {},
   "source": [
    "**r/Games**\n",
    "The Games subreddit is a forum where users discuss their interests in popular, typically AAA, games, discuss and review new titles, and can view game trailers. \n",
    "\n",
    "The term \"AAA\" (triple-A) in gaming refers to games made by major developers that have very large budgets. Popular games include Halo, Assassin's Creed, and Grand Theft Auto.\n",
    "\n",
    "https://www.reddit.com/r/Games/\n",
    "\n",
    "**Gather Data From Reddit**\n",
    "Data can only be pulled from reddit 100 posts at a time. The following for-loops gather 100 posts from a specified time.\n",
    "\n",
    "Note: The following 13 cells need to be run one at a time as there is an error with .json() when cells are either run at the same time or within a nested loop."
   ]
  },
  {
   "cell_type": "code",
   "execution_count": 1,
   "metadata": {},
   "outputs": [],
   "source": [
    "import requests\n",
    "import pandas as pd"
   ]
  },
  {
   "cell_type": "code",
   "execution_count": 2,
   "metadata": {},
   "outputs": [],
   "source": [
    "url = 'https://api.pushshift.io/reddit/search/submission'"
   ]
  },
  {
   "cell_type": "code",
   "execution_count": 3,
   "metadata": {},
   "outputs": [],
   "source": [
    "reddit_games = pd.DataFrame()"
   ]
  },
  {
   "cell_type": "code",
   "execution_count": null,
   "metadata": {},
   "outputs": [],
   "source": [
    "def read_subreddit(start_time):\n",
    "    \n",
    "     # loop through different time values as strings then concat\n",
    "    for i in range(1,10):\n",
    "    \n",
    "    # save as string\n",
    "    change_utc = start_time + str(i) + '699660' \n",
    "    # change to int\n",
    "    change_utc = int(change_utc) \n",
    "    # setup paramaters to gather 100 posts from subreddit 'Games' before the specified time\n",
    "    params = {\n",
    "        'subreddit' : 'Games',\n",
    "        'size' : 100,\n",
    "        'before' : change_utc\n",
    "    }\n",
    "    # request push from reddit\n",
    "    res = requests.get(url, params)\n",
    "    data = res.json()\n",
    "    posts = data['data']\n",
    "    # save to dataframe\n",
    "    reddit_games = reddit_games.append(pd.DataFrame(posts), ignore_index = True)\n",
    "    return reddit_games"
   ]
  },
  {
   "cell_type": "code",
   "execution_count": 4,
   "metadata": {},
   "outputs": [],
   "source": [
    "for i in range(1,10):\n",
    "    \n",
    "    # loop through different time values as strings then concat\n",
    "    change_utc = '162' + str(i) + '699660' \n",
    "    # change to int\n",
    "    change_utc = int(change_utc) \n",
    "    # setup paramaters to gather 100 posts from subreddit 'Games' before the specified time\n",
    "    params = {\n",
    "        'subreddit' : 'Games',\n",
    "        'size' : 100,\n",
    "        'before' : change_utc\n",
    "    }\n",
    "    # request push from reddit\n",
    "    res = requests.get(url, params)\n",
    "    data = res.json()\n",
    "    posts = data['data']\n",
    "    # save to dataframe\n",
    "    reddit_games = reddit_games.append(pd.DataFrame(posts), ignore_index = True)"
   ]
  },
  {
   "cell_type": "code",
   "execution_count": 5,
   "metadata": {},
   "outputs": [],
   "source": [
    "for i in range(1,10):\n",
    "    \n",
    "    change_utc = '161' + str(i) + '699660'\n",
    "    \n",
    "    change_utc = int(change_utc)\n",
    "    \n",
    "    params = {\n",
    "        'subreddit' : 'Games',\n",
    "        'size' : 100,\n",
    "        'before' : change_utc\n",
    "    }\n",
    "    res = requests.get(url, params)\n",
    "    data = res.json()\n",
    "    posts = data['data']\n",
    "    reddit_games = reddit_games.append(pd.DataFrame(posts), ignore_index = True)"
   ]
  },
  {
   "cell_type": "code",
   "execution_count": 6,
   "metadata": {},
   "outputs": [],
   "source": [
    "for i in range(1,10):\n",
    "    \n",
    "    change_utc = '154' + str(i) + '699660'\n",
    "    \n",
    "    change_utc = int(change_utc)\n",
    "    \n",
    "    params = {\n",
    "        'subreddit' : 'Games',\n",
    "        'size' : 100,\n",
    "        'before' : change_utc\n",
    "    }\n",
    "    res = requests.get(url, params)\n",
    "    data = res.json()\n",
    "    posts = data['data']\n",
    "    reddit_games = reddit_games.append(pd.DataFrame(posts), ignore_index = True)"
   ]
  },
  {
   "cell_type": "code",
   "execution_count": 7,
   "metadata": {},
   "outputs": [],
   "source": [
    "for i in range(1,10):\n",
    "    \n",
    "    change_utc = '153' + str(i) + '699660'\n",
    "    \n",
    "    change_utc = int(change_utc)\n",
    "    \n",
    "    params = {\n",
    "        'subreddit' : 'Games',\n",
    "        'size' : 100,\n",
    "        'before' : change_utc\n",
    "    }\n",
    "    res = requests.get(url, params)\n",
    "    data = res.json()\n",
    "    posts = data['data']\n",
    "    reddit_games = reddit_games.append(pd.DataFrame(posts), ignore_index = True)"
   ]
  },
  {
   "cell_type": "code",
   "execution_count": 8,
   "metadata": {},
   "outputs": [],
   "source": [
    "for i in range(1,10):\n",
    "    \n",
    "    change_utc = '152' + str(i) + '699660'\n",
    "    \n",
    "    change_utc = int(change_utc)\n",
    "    \n",
    "    params = {\n",
    "        'subreddit' : 'Games',\n",
    "        'size' : 100,\n",
    "        'before' : change_utc\n",
    "    }\n",
    "    res = requests.get(url, params)\n",
    "    data = res.json()\n",
    "    posts = data['data']\n",
    "    reddit_games = reddit_games.append(pd.DataFrame(posts), ignore_index = True)"
   ]
  },
  {
   "cell_type": "code",
   "execution_count": 9,
   "metadata": {},
   "outputs": [],
   "source": [
    "for i in range(1,10):\n",
    "    \n",
    "    change_utc = '151' + str(i) + '699660'\n",
    "    \n",
    "    change_utc = int(change_utc)\n",
    "    \n",
    "    params = {\n",
    "        'subreddit' : 'Games',\n",
    "        'size' : 100,\n",
    "        'before' : change_utc\n",
    "    }\n",
    "    res = requests.get(url, params)\n",
    "    data = res.json()\n",
    "    posts = data['data']\n",
    "    reddit_games = reddit_games.append(pd.DataFrame(posts), ignore_index = True)"
   ]
  },
  {
   "cell_type": "code",
   "execution_count": 11,
   "metadata": {},
   "outputs": [],
   "source": [
    "for i in range(1,10):\n",
    "\n",
    "    change_utc = '155' + str(i) + '699660'\n",
    "\n",
    "    change_utc = int(change_utc)\n",
    "\n",
    "    params = {\n",
    "        'subreddit' : 'Games',\n",
    "        'size' : 100,\n",
    "        'before' : change_utc\n",
    "    }\n",
    "    res = requests.get(url, params)\n",
    "    data = res.json()\n",
    "    posts = data['data']\n",
    "    reddit_games = reddit_games.append(pd.DataFrame(posts), ignore_index = True)"
   ]
  },
  {
   "cell_type": "code",
   "execution_count": 12,
   "metadata": {},
   "outputs": [],
   "source": [
    "for i in range(1,10):\n",
    "\n",
    "    change_utc = '156' + str(i) + '699660'\n",
    "\n",
    "    change_utc = int(change_utc)\n",
    "\n",
    "    params = {\n",
    "        'subreddit' : 'Games',\n",
    "        'size' : 100,\n",
    "        'before' : change_utc\n",
    "    }\n",
    "    res = requests.get(url, params)\n",
    "    data = res.json()\n",
    "    posts = data['data']\n",
    "    reddit_games = reddit_games.append(pd.DataFrame(posts), ignore_index = True)"
   ]
  },
  {
   "cell_type": "code",
   "execution_count": 13,
   "metadata": {},
   "outputs": [],
   "source": [
    "for i in range(1,10):\n",
    "\n",
    "    change_utc = '157' + str(i) + '699660'\n",
    "\n",
    "    change_utc = int(change_utc)\n",
    "\n",
    "    params = {\n",
    "        'subreddit' : 'Games',\n",
    "        'size' : 100,\n",
    "        'before' : change_utc\n",
    "    }\n",
    "    res = requests.get(url, params)\n",
    "    data = res.json()\n",
    "    posts = data['data']\n",
    "    reddit_games = reddit_games.append(pd.DataFrame(posts), ignore_index = True)"
   ]
  },
  {
   "cell_type": "code",
   "execution_count": 14,
   "metadata": {},
   "outputs": [],
   "source": [
    "for i in range(1,10):\n",
    "\n",
    "    change_utc = '158' + str(i) + '699660'\n",
    "\n",
    "    change_utc = int(change_utc)\n",
    "\n",
    "    params = {\n",
    "        'subreddit' : 'Games',\n",
    "        'size' : 100,\n",
    "        'before' : change_utc\n",
    "    }\n",
    "    res = requests.get(url, params)\n",
    "    data = res.json()\n",
    "    posts = data['data']\n",
    "    reddit_games = reddit_games.append(pd.DataFrame(posts), ignore_index = True)"
   ]
  },
  {
   "cell_type": "code",
   "execution_count": 15,
   "metadata": {},
   "outputs": [],
   "source": [
    "for i in range(1,10):\n",
    "\n",
    "    change_utc = '159' + str(i) + '699660'\n",
    "\n",
    "    change_utc = int(change_utc)\n",
    "\n",
    "    params = {\n",
    "        'subreddit' : 'Games',\n",
    "        'size' : 100,\n",
    "        'before' : change_utc\n",
    "    }\n",
    "    res = requests.get(url, params)\n",
    "    data = res.json()\n",
    "    posts = data['data']\n",
    "    reddit_games = reddit_games.append(pd.DataFrame(posts), ignore_index = True)"
   ]
  },
  {
   "cell_type": "code",
   "execution_count": 17,
   "metadata": {},
   "outputs": [],
   "source": [
    "for i in range(1,10):\n",
    "    \n",
    "    change_utc = '141' + str(i) + '699660'\n",
    "    \n",
    "    change_utc = int(change_utc)\n",
    "    \n",
    "    params = {\n",
    "        'subreddit' : 'Games',\n",
    "        'size' : 100,\n",
    "        'before' : change_utc\n",
    "    }\n",
    "    res = requests.get(url, params)\n",
    "    data = res.json()\n",
    "    posts = data['data']\n",
    "    reddit_games = reddit_games.append(pd.DataFrame(posts), ignore_index = True)"
   ]
  },
  {
   "cell_type": "code",
   "execution_count": 18,
   "metadata": {},
   "outputs": [],
   "source": [
    "for i in range(1,10):\n",
    "    \n",
    "    change_utc = '142' + str(i) + '699660'\n",
    "    \n",
    "    change_utc = int(change_utc)\n",
    "    \n",
    "    params = {\n",
    "        'subreddit' : 'Games',\n",
    "        'size' : 100,\n",
    "        'before' : change_utc\n",
    "    }\n",
    "    res = requests.get(url, params)\n",
    "    data = res.json()\n",
    "    posts = data['data']\n",
    "    reddit_games = reddit_games.append(pd.DataFrame(posts), ignore_index = True)"
   ]
  },
  {
   "cell_type": "code",
   "execution_count": 19,
   "metadata": {},
   "outputs": [],
   "source": [
    "for i in range(1,10):\n",
    "\n",
    "    change_utc = '143' + str(i) + '699660'\n",
    "\n",
    "    change_utc = int(change_utc)\n",
    "\n",
    "    params = {\n",
    "        'subreddit' : 'Games',\n",
    "        'size' : 100,\n",
    "        'before' : change_utc\n",
    "    }\n",
    "    res = requests.get(url, params)\n",
    "    data = res.json()\n",
    "    posts = data['data']\n",
    "    reddit_games = reddit_games.append(pd.DataFrame(posts), ignore_index = True)"
   ]
  },
  {
   "cell_type": "code",
   "execution_count": 20,
   "metadata": {},
   "outputs": [],
   "source": [
    "for i in range(1,10):\n",
    "\n",
    "    change_utc = '144' + str(i) + '699660'\n",
    "\n",
    "    change_utc = int(change_utc)\n",
    "\n",
    "    params = {\n",
    "        'subreddit' : 'Games',\n",
    "        'size' : 100,\n",
    "        'before' : change_utc\n",
    "    }\n",
    "    res = requests.get(url, params)\n",
    "    data = res.json()\n",
    "    posts = data['data']\n",
    "    reddit_games = reddit_games.append(pd.DataFrame(posts), ignore_index = True)"
   ]
  },
  {
   "cell_type": "code",
   "execution_count": 21,
   "metadata": {},
   "outputs": [],
   "source": [
    "for i in range(1,10):\n",
    "\n",
    "    change_utc = '145' + str(i) + '699660'\n",
    "\n",
    "    change_utc = int(change_utc)\n",
    "\n",
    "    params = {\n",
    "        'subreddit' : 'Games',\n",
    "        'size' : 100,\n",
    "        'before' : change_utc\n",
    "    }\n",
    "    res = requests.get(url, params)\n",
    "    data = res.json()\n",
    "    posts = data['data']\n",
    "    reddit_games = reddit_games.append(pd.DataFrame(posts), ignore_index = True)"
   ]
  },
  {
   "cell_type": "code",
   "execution_count": null,
   "metadata": {},
   "outputs": [],
   "source": []
  },
  {
   "cell_type": "code",
   "execution_count": 23,
   "metadata": {},
   "outputs": [],
   "source": [
    "for i in range(1,10):\n",
    "\n",
    "    change_utc = '146' + str(i) + '699660'\n",
    "\n",
    "    change_utc = int(change_utc)\n",
    "\n",
    "    params = {\n",
    "        'subreddit' : 'Games',\n",
    "        'size' : 100,\n",
    "        'before' : change_utc\n",
    "    }\n",
    "    res = requests.get(url, params)\n",
    "    data = res.json()\n",
    "    posts = data['data']\n",
    "    reddit_games = reddit_games.append(pd.DataFrame(posts), ignore_index = True)"
   ]
  },
  {
   "cell_type": "code",
   "execution_count": 24,
   "metadata": {},
   "outputs": [],
   "source": [
    "for i in range(1,10):\n",
    "\n",
    "    change_utc = '147' + str(i) + '699660'\n",
    "\n",
    "    change_utc = int(change_utc)\n",
    "\n",
    "    params = {\n",
    "        'subreddit' : 'Games',\n",
    "        'size' : 100,\n",
    "        'before' : change_utc\n",
    "    }\n",
    "    res = requests.get(url, params)\n",
    "    data = res.json()\n",
    "    posts = data['data']\n",
    "    reddit_games = reddit_games.append(pd.DataFrame(posts), ignore_index = True)"
   ]
  },
  {
   "cell_type": "code",
   "execution_count": 26,
   "metadata": {},
   "outputs": [],
   "source": [
    "for i in range(1,10):\n",
    "\n",
    "    change_utc = '148' + str(i) + '699660'\n",
    "\n",
    "    change_utc = int(change_utc)\n",
    "\n",
    "    params = {\n",
    "        'subreddit' : 'Games',\n",
    "        'size' : 100,\n",
    "        'before' : change_utc\n",
    "    }\n",
    "    res = requests.get(url, params)\n",
    "    data = res.json()\n",
    "    posts = data['data']\n",
    "    reddit_games = reddit_games.append(pd.DataFrame(posts), ignore_index = True)"
   ]
  },
  {
   "cell_type": "code",
   "execution_count": 27,
   "metadata": {},
   "outputs": [],
   "source": [
    "for i in range(1,10):\n",
    "\n",
    "    change_utc = '149' + str(i) + '699660'\n",
    "\n",
    "    change_utc = int(change_utc)\n",
    "\n",
    "    params = {\n",
    "        'subreddit' : 'Games',\n",
    "        'size' : 100,\n",
    "        'before' : change_utc\n",
    "    }\n",
    "    res = requests.get(url, params)\n",
    "    data = res.json()\n",
    "    posts = data['data']\n",
    "    reddit_games = reddit_games.append(pd.DataFrame(posts), ignore_index = True)"
   ]
  },
  {
   "cell_type": "markdown",
   "metadata": {},
   "source": [
    "**Save columns 'subreddit', 'selftext', 'title'**"
   ]
  },
  {
   "cell_type": "code",
   "execution_count": 28,
   "metadata": {},
   "outputs": [],
   "source": [
    "reddit_games = reddit_games[['subreddit', 'selftext', 'title']]"
   ]
  },
  {
   "cell_type": "code",
   "execution_count": 29,
   "metadata": {},
   "outputs": [
    {
     "name": "stdout",
     "output_type": "stream",
     "text": [
      "<class 'pandas.core.frame.DataFrame'>\n",
      "RangeIndex: 19400 entries, 0 to 19399\n",
      "Data columns (total 3 columns):\n",
      " #   Column     Non-Null Count  Dtype \n",
      "---  ------     --------------  ----- \n",
      " 0   subreddit  19400 non-null  object\n",
      " 1   selftext   19313 non-null  object\n",
      " 2   title      19400 non-null  object\n",
      "dtypes: object(3)\n",
      "memory usage: 454.8+ KB\n"
     ]
    }
   ],
   "source": [
    "reddit_games.info()"
   ]
  },
  {
   "cell_type": "markdown",
   "metadata": {},
   "source": [
    "**Replace texts [deleted] and [removed] with blanks**"
   ]
  },
  {
   "cell_type": "code",
   "execution_count": 30,
   "metadata": {},
   "outputs": [],
   "source": [
    "reddit_games['selftext'] = reddit_games['selftext'].replace(['[deleted]',\n",
    "                                               '[removed]'],'')"
   ]
  },
  {
   "cell_type": "code",
   "execution_count": 31,
   "metadata": {},
   "outputs": [],
   "source": [
    "# remove remaining null \n",
    "reddit_games = reddit_games.dropna()"
   ]
  },
  {
   "cell_type": "code",
   "execution_count": 32,
   "metadata": {},
   "outputs": [
    {
     "name": "stdout",
     "output_type": "stream",
     "text": [
      "<class 'pandas.core.frame.DataFrame'>\n",
      "Int64Index: 19313 entries, 0 to 19399\n",
      "Data columns (total 3 columns):\n",
      " #   Column     Non-Null Count  Dtype \n",
      "---  ------     --------------  ----- \n",
      " 0   subreddit  19313 non-null  object\n",
      " 1   selftext   19313 non-null  object\n",
      " 2   title      19313 non-null  object\n",
      "dtypes: object(3)\n",
      "memory usage: 603.5+ KB\n"
     ]
    }
   ],
   "source": [
    "reddit_games.info()"
   ]
  },
  {
   "cell_type": "markdown",
   "metadata": {},
   "source": [
    "**Combine texts to one column titled 'text' - This new column will be used for classification.**"
   ]
  },
  {
   "cell_type": "code",
   "execution_count": 33,
   "metadata": {},
   "outputs": [],
   "source": [
    "reddit_games['text'] = reddit_games['selftext'] + reddit_games['title']"
   ]
  },
  {
   "cell_type": "markdown",
   "metadata": {},
   "source": [
    "**Save to CSV**"
   ]
  },
  {
   "cell_type": "code",
   "execution_count": 34,
   "metadata": {},
   "outputs": [],
   "source": [
    "reddit_games.to_csv('datasets/data_r_games_all.csv', index =False)"
   ]
  },
  {
   "cell_type": "code",
   "execution_count": null,
   "metadata": {},
   "outputs": [],
   "source": []
  }
 ],
 "metadata": {
  "kernelspec": {
   "display_name": "Python 3",
   "language": "python",
   "name": "python3"
  },
  "language_info": {
   "codemirror_mode": {
    "name": "ipython",
    "version": 3
   },
   "file_extension": ".py",
   "mimetype": "text/x-python",
   "name": "python",
   "nbconvert_exporter": "python",
   "pygments_lexer": "ipython3",
   "version": "3.8.3"
  }
 },
 "nbformat": 4,
 "nbformat_minor": 4
}
